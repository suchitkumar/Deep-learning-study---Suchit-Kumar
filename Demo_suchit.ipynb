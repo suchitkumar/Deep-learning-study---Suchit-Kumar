{
 "cells": [
  {
   "cell_type": "code",
   "execution_count": 5,
   "metadata": {},
   "outputs": [
    {
     "name": "stdout",
     "output_type": "stream",
     "text": [
      "(3, 640, 353)\n",
      "(353, 640, 3)\n",
      "(3, 640, 640)\n"
     ]
    }
   ],
   "source": [
    "import h5py    \n",
    "import numpy as np    \n",
    "import os\n",
    "\n",
    "os.chdir('C:/Users/MISSL-SUCHIT/Documents/KU.MISSL.DL')\n",
    "\n",
    "f1 = h5py.File('Anaconda.h5', 'r')\n",
    "\n",
    "n1 = f1.get('dataset')\n",
    "\n",
    "AAA = np.array(n1)\n",
    "#print(AAA)\n",
    "print(AAA.shape)\n",
    "\n",
    "BBB = np.multiply(1000,AAA)\n",
    "#print(BBB)\n",
    "\n",
    "CCC = np.transpose(BBB)\n",
    "print(CCC.shape)\n",
    "#print(CCC)\n",
    "\n",
    "DDD = np.zeros((3,640,640))\n",
    "for i in range(len(AAA)):\n",
    "    DDD[i][:][:] = np.mat(np.squeeze(AAA[i,:,:]))*np.mat(np.squeeze(CCC[:,:,i]))\n",
    "    print(DDD.shape)\n",
    "    break\n",
    "    \n",
    "hf = h5py.File('data.h5', 'w')\n",
    "hf.create_dataset('dataset', data=DDD)\n",
    "hf.close()\n",
    "\n"
   ]
  },
  {
   "cell_type": "code",
   "execution_count": null,
   "metadata": {},
   "outputs": [],
   "source": []
  }
 ],
 "metadata": {
  "kernelspec": {
   "display_name": "Python 3",
   "language": "python",
   "name": "python3"
  },
  "language_info": {
   "codemirror_mode": {
    "name": "ipython",
    "version": 3
   },
   "file_extension": ".py",
   "mimetype": "text/x-python",
   "name": "python",
   "nbconvert_exporter": "python",
   "pygments_lexer": "ipython3",
   "version": "3.7.3"
  }
 },
 "nbformat": 4,
 "nbformat_minor": 2
}
